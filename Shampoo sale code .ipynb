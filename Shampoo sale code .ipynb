{
 "cells": [
  {
   "cell_type": "code",
   "execution_count": 3,
   "id": "85c08758",
   "metadata": {},
   "outputs": [],
   "source": [
    "using Markdown\n",
    "using InteractiveUtils\n",
    "using Markdown, InteractiveUtils\n",
    "using PlutoUI; PlutoUI.TableOfContents()\n",
    "using CSV, DataFrames, Statistics, StatsBase, RDatasets, Plots\n",
    "using EvalMetrics\n",
    "using Flux"
   ]
  },
  {
   "cell_type": "code",
   "execution_count": 4,
   "id": "452832b1",
   "metadata": {
    "scrolled": true
   },
   "outputs": [
    {
     "name": "stderr",
     "output_type": "stream",
     "text": [
      "\u001b[32m\u001b[1m    Updating\u001b[22m\u001b[39m registry at `C:\\Users\\Selma Shivute\\.julia\\registries\\General.toml`\n",
      "\u001b[32m\u001b[1m   Resolving\u001b[22m\u001b[39m package versions...\n",
      "\u001b[32m\u001b[1m  No Changes\u001b[22m\u001b[39m to `C:\\Users\\Selma Shivute\\.julia\\environments\\v1.8\\Project.toml`\n",
      "\u001b[32m\u001b[1m  No Changes\u001b[22m\u001b[39m to `C:\\Users\\Selma Shivute\\.julia\\environments\\v1.8\\Manifest.toml`\n"
     ]
    }
   ],
   "source": [
    "import Pkg; Pkg.add(\"StatsPlots\")"
   ]
  },
  {
   "cell_type": "code",
   "execution_count": 5,
   "id": "3376ed79",
   "metadata": {},
   "outputs": [],
   "source": [
    "using CSV, DataFrames, Flux, Statistics\n",
    "using Flux: @epochs, batchseq, crossentropy, onecold, throttle, train!\n",
    "using Flux.Losses: mae\n",
    "using StatsPlots"
   ]
  },
  {
   "cell_type": "code",
   "execution_count": 6,
   "id": "5009d45f",
   "metadata": {
    "scrolled": true
   },
   "outputs": [
    {
     "name": "stderr",
     "output_type": "stream",
     "text": [
      "\u001b[32m\u001b[1m   Resolving\u001b[22m\u001b[39m package versions...\n",
      "\u001b[32m\u001b[1m  No Changes\u001b[22m\u001b[39m to `C:\\Users\\Selma Shivute\\.julia\\environments\\v1.8\\Project.toml`\n",
      "\u001b[32m\u001b[1m  No Changes\u001b[22m\u001b[39m to `C:\\Users\\Selma Shivute\\.julia\\environments\\v1.8\\Manifest.toml`\n"
     ]
    }
   ],
   "source": [
    "#import necessary package\n",
    "import Pkg; Pkg.add(\"Gadfly\")"
   ]
  },
  {
   "cell_type": "code",
   "execution_count": 7,
   "id": "48127c07",
   "metadata": {},
   "outputs": [
    {
     "name": "stderr",
     "output_type": "stream",
     "text": [
      "WARNING: using TimeSeries.rename! in module Main conflicts with an existing identifier.\n"
     ]
    }
   ],
   "source": [
    "#using the module necesary for the assignment\n",
    "using Dates, DataFrames, TimeSeries, Gadfly, Dates"
   ]
  },
  {
   "cell_type": "code",
   "execution_count": 8,
   "id": "47e5e800",
   "metadata": {},
   "outputs": [],
   "source": [
    "using Plots"
   ]
  },
  {
   "cell_type": "code",
   "execution_count": 9,
   "id": "41c936c2",
   "metadata": {},
   "outputs": [
    {
     "data": {
      "text/html": [
       "<div><div style = \"float: left;\"><span>36×2 DataFrame</span></div><div style = \"float: right;\"><span style = \"font-style: italic;\">11 rows omitted</span></div><div style = \"clear: both;\"></div></div><div class = \"data-frame\" style = \"overflow-x: scroll;\"><table class = \"data-frame\" style = \"margin-bottom: 6px;\"><thead><tr class = \"header\"><th class = \"rowNumber\" style = \"font-weight: bold; text-align: right;\">Row</th><th style = \"text-align: left;\">Month</th><th style = \"text-align: left;\">Sales of shampoo over a three year period</th></tr><tr class = \"subheader headerLastRow\"><th class = \"rowNumber\" style = \"font-weight: bold; text-align: right;\"></th><th title = \"String7\" style = \"text-align: left;\">String7</th><th title = \"Float64\" style = \"text-align: left;\">Float64</th></tr></thead><tbody><tr><td class = \"rowNumber\" style = \"font-weight: bold; text-align: right;\">1</td><td style = \"text-align: left;\">1-Jan</td><td style = \"text-align: right;\">266.0</td></tr><tr><td class = \"rowNumber\" style = \"font-weight: bold; text-align: right;\">2</td><td style = \"text-align: left;\">1-Feb</td><td style = \"text-align: right;\">145.9</td></tr><tr><td class = \"rowNumber\" style = \"font-weight: bold; text-align: right;\">3</td><td style = \"text-align: left;\">1-Mar</td><td style = \"text-align: right;\">183.1</td></tr><tr><td class = \"rowNumber\" style = \"font-weight: bold; text-align: right;\">4</td><td style = \"text-align: left;\">1-Apr</td><td style = \"text-align: right;\">119.3</td></tr><tr><td class = \"rowNumber\" style = \"font-weight: bold; text-align: right;\">5</td><td style = \"text-align: left;\">1-May</td><td style = \"text-align: right;\">180.3</td></tr><tr><td class = \"rowNumber\" style = \"font-weight: bold; text-align: right;\">6</td><td style = \"text-align: left;\">1-Jun</td><td style = \"text-align: right;\">168.5</td></tr><tr><td class = \"rowNumber\" style = \"font-weight: bold; text-align: right;\">7</td><td style = \"text-align: left;\">1-Jul</td><td style = \"text-align: right;\">231.8</td></tr><tr><td class = \"rowNumber\" style = \"font-weight: bold; text-align: right;\">8</td><td style = \"text-align: left;\">1-Aug</td><td style = \"text-align: right;\">224.5</td></tr><tr><td class = \"rowNumber\" style = \"font-weight: bold; text-align: right;\">9</td><td style = \"text-align: left;\">1-Sep</td><td style = \"text-align: right;\">192.8</td></tr><tr><td class = \"rowNumber\" style = \"font-weight: bold; text-align: right;\">10</td><td style = \"text-align: left;\">1-Oct</td><td style = \"text-align: right;\">122.9</td></tr><tr><td class = \"rowNumber\" style = \"font-weight: bold; text-align: right;\">11</td><td style = \"text-align: left;\">1-Nov</td><td style = \"text-align: right;\">336.5</td></tr><tr><td class = \"rowNumber\" style = \"font-weight: bold; text-align: right;\">12</td><td style = \"text-align: left;\">1-Dec</td><td style = \"text-align: right;\">185.9</td></tr><tr><td class = \"rowNumber\" style = \"font-weight: bold; text-align: right;\">13</td><td style = \"text-align: left;\">2-Jan</td><td style = \"text-align: right;\">194.3</td></tr><tr><td style = \"text-align: right;\">&vellip;</td><td style = \"text-align: right;\">&vellip;</td><td style = \"text-align: right;\">&vellip;</td></tr><tr><td class = \"rowNumber\" style = \"font-weight: bold; text-align: right;\">25</td><td style = \"text-align: left;\">3-Jan</td><td style = \"text-align: right;\">339.7</td></tr><tr><td class = \"rowNumber\" style = \"font-weight: bold; text-align: right;\">26</td><td style = \"text-align: left;\">3-Feb</td><td style = \"text-align: right;\">440.4</td></tr><tr><td class = \"rowNumber\" style = \"font-weight: bold; text-align: right;\">27</td><td style = \"text-align: left;\">3-Mar</td><td style = \"text-align: right;\">315.9</td></tr><tr><td class = \"rowNumber\" style = \"font-weight: bold; text-align: right;\">28</td><td style = \"text-align: left;\">3-Apr</td><td style = \"text-align: right;\">439.3</td></tr><tr><td class = \"rowNumber\" style = \"font-weight: bold; text-align: right;\">29</td><td style = \"text-align: left;\">3-May</td><td style = \"text-align: right;\">401.3</td></tr><tr><td class = \"rowNumber\" style = \"font-weight: bold; text-align: right;\">30</td><td style = \"text-align: left;\">3-Jun</td><td style = \"text-align: right;\">437.4</td></tr><tr><td class = \"rowNumber\" style = \"font-weight: bold; text-align: right;\">31</td><td style = \"text-align: left;\">3-Jul</td><td style = \"text-align: right;\">575.5</td></tr><tr><td class = \"rowNumber\" style = \"font-weight: bold; text-align: right;\">32</td><td style = \"text-align: left;\">3-Aug</td><td style = \"text-align: right;\">407.6</td></tr><tr><td class = \"rowNumber\" style = \"font-weight: bold; text-align: right;\">33</td><td style = \"text-align: left;\">3-Sep</td><td style = \"text-align: right;\">682.0</td></tr><tr><td class = \"rowNumber\" style = \"font-weight: bold; text-align: right;\">34</td><td style = \"text-align: left;\">3-Oct</td><td style = \"text-align: right;\">475.3</td></tr><tr><td class = \"rowNumber\" style = \"font-weight: bold; text-align: right;\">35</td><td style = \"text-align: left;\">3-Nov</td><td style = \"text-align: right;\">581.3</td></tr><tr><td class = \"rowNumber\" style = \"font-weight: bold; text-align: right;\">36</td><td style = \"text-align: left;\">3-Dec</td><td style = \"text-align: right;\">646.9</td></tr></tbody></table></div>"
      ],
      "text/latex": [
       "\\begin{tabular}{r|cc}\n",
       "\t& Month & Sales of shampoo over a three year period\\\\\n",
       "\t\\hline\n",
       "\t& String7 & Float64\\\\\n",
       "\t\\hline\n",
       "\t1 & 1-Jan & 266.0 \\\\\n",
       "\t2 & 1-Feb & 145.9 \\\\\n",
       "\t3 & 1-Mar & 183.1 \\\\\n",
       "\t4 & 1-Apr & 119.3 \\\\\n",
       "\t5 & 1-May & 180.3 \\\\\n",
       "\t6 & 1-Jun & 168.5 \\\\\n",
       "\t7 & 1-Jul & 231.8 \\\\\n",
       "\t8 & 1-Aug & 224.5 \\\\\n",
       "\t9 & 1-Sep & 192.8 \\\\\n",
       "\t10 & 1-Oct & 122.9 \\\\\n",
       "\t11 & 1-Nov & 336.5 \\\\\n",
       "\t12 & 1-Dec & 185.9 \\\\\n",
       "\t13 & 2-Jan & 194.3 \\\\\n",
       "\t14 & 2-Feb & 149.5 \\\\\n",
       "\t15 & 2-Mar & 210.1 \\\\\n",
       "\t16 & 2-Apr & 273.3 \\\\\n",
       "\t17 & 2-May & 191.4 \\\\\n",
       "\t18 & 2-Jun & 287.0 \\\\\n",
       "\t19 & 2-Jul & 226.0 \\\\\n",
       "\t20 & 2-Aug & 303.6 \\\\\n",
       "\t21 & 2-Sep & 289.9 \\\\\n",
       "\t22 & 2-Oct & 421.6 \\\\\n",
       "\t23 & 2-Nov & 264.5 \\\\\n",
       "\t24 & 2-Dec & 342.3 \\\\\n",
       "\t25 & 3-Jan & 339.7 \\\\\n",
       "\t26 & 3-Feb & 440.4 \\\\\n",
       "\t27 & 3-Mar & 315.9 \\\\\n",
       "\t28 & 3-Apr & 439.3 \\\\\n",
       "\t29 & 3-May & 401.3 \\\\\n",
       "\t30 & 3-Jun & 437.4 \\\\\n",
       "\t$\\dots$ & $\\dots$ & $\\dots$ \\\\\n",
       "\\end{tabular}\n"
      ],
      "text/plain": [
       "\u001b[1m36×2 DataFrame\u001b[0m\n",
       "\u001b[1m Row \u001b[0m│\u001b[1m Month   \u001b[0m\u001b[1m Sales of shampoo over a three year period \u001b[0m\n",
       "     │\u001b[90m String7 \u001b[0m\u001b[90m Float64                                   \u001b[0m\n",
       "─────┼────────────────────────────────────────────────────\n",
       "   1 │ 1-Jan                                        266.0\n",
       "   2 │ 1-Feb                                        145.9\n",
       "   3 │ 1-Mar                                        183.1\n",
       "   4 │ 1-Apr                                        119.3\n",
       "   5 │ 1-May                                        180.3\n",
       "   6 │ 1-Jun                                        168.5\n",
       "   7 │ 1-Jul                                        231.8\n",
       "   8 │ 1-Aug                                        224.5\n",
       "   9 │ 1-Sep                                        192.8\n",
       "  10 │ 1-Oct                                        122.9\n",
       "  11 │ 1-Nov                                        336.5\n",
       "  ⋮  │    ⋮                         ⋮\n",
       "  27 │ 3-Mar                                        315.9\n",
       "  28 │ 3-Apr                                        439.3\n",
       "  29 │ 3-May                                        401.3\n",
       "  30 │ 3-Jun                                        437.4\n",
       "  31 │ 3-Jul                                        575.5\n",
       "  32 │ 3-Aug                                        407.6\n",
       "  33 │ 3-Sep                                        682.0\n",
       "  34 │ 3-Oct                                        475.3\n",
       "  35 │ 3-Nov                                        581.3\n",
       "  36 │ 3-Dec                                        646.9\n",
       "\u001b[36m                                           15 rows omitted\u001b[0m"
      ]
     },
     "execution_count": 9,
     "metadata": {},
     "output_type": "execute_result"
    }
   ],
   "source": [
    "# Load the data into a dataframe called df\n",
    "df=CSV.read(\"C:/Users/Selma Shivute/Documents/NUST/Year 2/Semester 1/AI/dataset/shampoo/sales-of-shampoo.csv\", DataFrame)"
   ]
  },
  {
   "cell_type": "code",
   "execution_count": null,
   "id": "a665dbb2",
   "metadata": {},
   "outputs": [],
   "source": []
  },
  {
   "cell_type": "code",
   "execution_count": 10,
   "id": "a9046087",
   "metadata": {},
   "outputs": [
    {
     "data": {
      "text/html": [
       "<div><div style = \"float: left;\"><span>36×2 DataFrame</span></div><div style = \"float: right;\"><span style = \"font-style: italic;\">11 rows omitted</span></div><div style = \"clear: both;\"></div></div><div class = \"data-frame\" style = \"overflow-x: scroll;\"><table class = \"data-frame\" style = \"margin-bottom: 6px;\"><thead><tr class = \"header\"><th class = \"rowNumber\" style = \"font-weight: bold; text-align: right;\">Row</th><th style = \"text-align: left;\">Month</th><th style = \"text-align: left;\">Sales of shampoo over a three year period</th></tr><tr class = \"subheader headerLastRow\"><th class = \"rowNumber\" style = \"font-weight: bold; text-align: right;\"></th><th title = \"String7\" style = \"text-align: left;\">String7</th><th title = \"Float64\" style = \"text-align: left;\">Float64</th></tr></thead><tbody><tr><td class = \"rowNumber\" style = \"font-weight: bold; text-align: right;\">1</td><td style = \"text-align: left;\">1-Jan</td><td style = \"text-align: right;\">266.0</td></tr><tr><td class = \"rowNumber\" style = \"font-weight: bold; text-align: right;\">2</td><td style = \"text-align: left;\">1-Feb</td><td style = \"text-align: right;\">145.9</td></tr><tr><td class = \"rowNumber\" style = \"font-weight: bold; text-align: right;\">3</td><td style = \"text-align: left;\">1-Mar</td><td style = \"text-align: right;\">183.1</td></tr><tr><td class = \"rowNumber\" style = \"font-weight: bold; text-align: right;\">4</td><td style = \"text-align: left;\">1-Apr</td><td style = \"text-align: right;\">119.3</td></tr><tr><td class = \"rowNumber\" style = \"font-weight: bold; text-align: right;\">5</td><td style = \"text-align: left;\">1-May</td><td style = \"text-align: right;\">180.3</td></tr><tr><td class = \"rowNumber\" style = \"font-weight: bold; text-align: right;\">6</td><td style = \"text-align: left;\">1-Jun</td><td style = \"text-align: right;\">168.5</td></tr><tr><td class = \"rowNumber\" style = \"font-weight: bold; text-align: right;\">7</td><td style = \"text-align: left;\">1-Jul</td><td style = \"text-align: right;\">231.8</td></tr><tr><td class = \"rowNumber\" style = \"font-weight: bold; text-align: right;\">8</td><td style = \"text-align: left;\">1-Aug</td><td style = \"text-align: right;\">224.5</td></tr><tr><td class = \"rowNumber\" style = \"font-weight: bold; text-align: right;\">9</td><td style = \"text-align: left;\">1-Sep</td><td style = \"text-align: right;\">192.8</td></tr><tr><td class = \"rowNumber\" style = \"font-weight: bold; text-align: right;\">10</td><td style = \"text-align: left;\">1-Oct</td><td style = \"text-align: right;\">122.9</td></tr><tr><td class = \"rowNumber\" style = \"font-weight: bold; text-align: right;\">11</td><td style = \"text-align: left;\">1-Nov</td><td style = \"text-align: right;\">336.5</td></tr><tr><td class = \"rowNumber\" style = \"font-weight: bold; text-align: right;\">12</td><td style = \"text-align: left;\">1-Dec</td><td style = \"text-align: right;\">185.9</td></tr><tr><td class = \"rowNumber\" style = \"font-weight: bold; text-align: right;\">13</td><td style = \"text-align: left;\">2-Jan</td><td style = \"text-align: right;\">194.3</td></tr><tr><td style = \"text-align: right;\">&vellip;</td><td style = \"text-align: right;\">&vellip;</td><td style = \"text-align: right;\">&vellip;</td></tr><tr><td class = \"rowNumber\" style = \"font-weight: bold; text-align: right;\">25</td><td style = \"text-align: left;\">3-Jan</td><td style = \"text-align: right;\">339.7</td></tr><tr><td class = \"rowNumber\" style = \"font-weight: bold; text-align: right;\">26</td><td style = \"text-align: left;\">3-Feb</td><td style = \"text-align: right;\">440.4</td></tr><tr><td class = \"rowNumber\" style = \"font-weight: bold; text-align: right;\">27</td><td style = \"text-align: left;\">3-Mar</td><td style = \"text-align: right;\">315.9</td></tr><tr><td class = \"rowNumber\" style = \"font-weight: bold; text-align: right;\">28</td><td style = \"text-align: left;\">3-Apr</td><td style = \"text-align: right;\">439.3</td></tr><tr><td class = \"rowNumber\" style = \"font-weight: bold; text-align: right;\">29</td><td style = \"text-align: left;\">3-May</td><td style = \"text-align: right;\">401.3</td></tr><tr><td class = \"rowNumber\" style = \"font-weight: bold; text-align: right;\">30</td><td style = \"text-align: left;\">3-Jun</td><td style = \"text-align: right;\">437.4</td></tr><tr><td class = \"rowNumber\" style = \"font-weight: bold; text-align: right;\">31</td><td style = \"text-align: left;\">3-Jul</td><td style = \"text-align: right;\">575.5</td></tr><tr><td class = \"rowNumber\" style = \"font-weight: bold; text-align: right;\">32</td><td style = \"text-align: left;\">3-Aug</td><td style = \"text-align: right;\">407.6</td></tr><tr><td class = \"rowNumber\" style = \"font-weight: bold; text-align: right;\">33</td><td style = \"text-align: left;\">3-Sep</td><td style = \"text-align: right;\">682.0</td></tr><tr><td class = \"rowNumber\" style = \"font-weight: bold; text-align: right;\">34</td><td style = \"text-align: left;\">3-Oct</td><td style = \"text-align: right;\">475.3</td></tr><tr><td class = \"rowNumber\" style = \"font-weight: bold; text-align: right;\">35</td><td style = \"text-align: left;\">3-Nov</td><td style = \"text-align: right;\">581.3</td></tr><tr><td class = \"rowNumber\" style = \"font-weight: bold; text-align: right;\">36</td><td style = \"text-align: left;\">3-Dec</td><td style = \"text-align: right;\">646.9</td></tr></tbody></table></div>"
      ],
      "text/latex": [
       "\\begin{tabular}{r|cc}\n",
       "\t& Month & Sales of shampoo over a three year period\\\\\n",
       "\t\\hline\n",
       "\t& String7 & Float64\\\\\n",
       "\t\\hline\n",
       "\t1 & 1-Jan & 266.0 \\\\\n",
       "\t2 & 1-Feb & 145.9 \\\\\n",
       "\t3 & 1-Mar & 183.1 \\\\\n",
       "\t4 & 1-Apr & 119.3 \\\\\n",
       "\t5 & 1-May & 180.3 \\\\\n",
       "\t6 & 1-Jun & 168.5 \\\\\n",
       "\t7 & 1-Jul & 231.8 \\\\\n",
       "\t8 & 1-Aug & 224.5 \\\\\n",
       "\t9 & 1-Sep & 192.8 \\\\\n",
       "\t10 & 1-Oct & 122.9 \\\\\n",
       "\t11 & 1-Nov & 336.5 \\\\\n",
       "\t12 & 1-Dec & 185.9 \\\\\n",
       "\t13 & 2-Jan & 194.3 \\\\\n",
       "\t14 & 2-Feb & 149.5 \\\\\n",
       "\t15 & 2-Mar & 210.1 \\\\\n",
       "\t16 & 2-Apr & 273.3 \\\\\n",
       "\t17 & 2-May & 191.4 \\\\\n",
       "\t18 & 2-Jun & 287.0 \\\\\n",
       "\t19 & 2-Jul & 226.0 \\\\\n",
       "\t20 & 2-Aug & 303.6 \\\\\n",
       "\t21 & 2-Sep & 289.9 \\\\\n",
       "\t22 & 2-Oct & 421.6 \\\\\n",
       "\t23 & 2-Nov & 264.5 \\\\\n",
       "\t24 & 2-Dec & 342.3 \\\\\n",
       "\t25 & 3-Jan & 339.7 \\\\\n",
       "\t26 & 3-Feb & 440.4 \\\\\n",
       "\t27 & 3-Mar & 315.9 \\\\\n",
       "\t28 & 3-Apr & 439.3 \\\\\n",
       "\t29 & 3-May & 401.3 \\\\\n",
       "\t30 & 3-Jun & 437.4 \\\\\n",
       "\t$\\dots$ & $\\dots$ & $\\dots$ \\\\\n",
       "\\end{tabular}\n"
      ],
      "text/plain": [
       "\u001b[1m36×2 DataFrame\u001b[0m\n",
       "\u001b[1m Row \u001b[0m│\u001b[1m Month   \u001b[0m\u001b[1m Sales of shampoo over a three year period \u001b[0m\n",
       "     │\u001b[90m String7 \u001b[0m\u001b[90m Float64                                   \u001b[0m\n",
       "─────┼────────────────────────────────────────────────────\n",
       "   1 │ 1-Jan                                        266.0\n",
       "   2 │ 1-Feb                                        145.9\n",
       "   3 │ 1-Mar                                        183.1\n",
       "   4 │ 1-Apr                                        119.3\n",
       "   5 │ 1-May                                        180.3\n",
       "   6 │ 1-Jun                                        168.5\n",
       "   7 │ 1-Jul                                        231.8\n",
       "   8 │ 1-Aug                                        224.5\n",
       "   9 │ 1-Sep                                        192.8\n",
       "  10 │ 1-Oct                                        122.9\n",
       "  11 │ 1-Nov                                        336.5\n",
       "  ⋮  │    ⋮                         ⋮\n",
       "  27 │ 3-Mar                                        315.9\n",
       "  28 │ 3-Apr                                        439.3\n",
       "  29 │ 3-May                                        401.3\n",
       "  30 │ 3-Jun                                        437.4\n",
       "  31 │ 3-Jul                                        575.5\n",
       "  32 │ 3-Aug                                        407.6\n",
       "  33 │ 3-Sep                                        682.0\n",
       "  34 │ 3-Oct                                        475.3\n",
       "  35 │ 3-Nov                                        581.3\n",
       "  36 │ 3-Dec                                        646.9\n",
       "\u001b[36m                                           15 rows omitted\u001b[0m"
      ]
     },
     "execution_count": 10,
     "metadata": {},
     "output_type": "execute_result"
    }
   ],
   "source": [
    "#create a copy of dataframe df into processed_df\n",
    "processed_df = deepcopy(df)"
   ]
  },
  {
   "cell_type": "code",
   "execution_count": 23,
   "id": "24942c95",
   "metadata": {},
   "outputs": [
    {
     "data": {
      "text/plain": [
       "preprocess_data (generic function with 1 method)"
      ]
     },
     "execution_count": 23,
     "metadata": {},
     "output_type": "execute_result"
    }
   ],
   "source": []
  },
  {
   "cell_type": "code",
   "execution_count": 11,
   "id": "befb0e16",
   "metadata": {},
   "outputs": [],
   "source": [
    "import DataFrames.rename!"
   ]
  },
  {
   "cell_type": "code",
   "execution_count": 22,
   "id": "3fd774ca",
   "metadata": {},
   "outputs": [
    {
     "data": {
      "text/html": [
       "<div><div style = \"float: left;\"><span>36×2 DataFrame</span></div><div style = \"float: right;\"><span style = \"font-style: italic;\">11 rows omitted</span></div><div style = \"clear: both;\"></div></div><div class = \"data-frame\" style = \"overflow-x: scroll;\"><table class = \"data-frame\" style = \"margin-bottom: 6px;\"><thead><tr class = \"header\"><th class = \"rowNumber\" style = \"font-weight: bold; text-align: right;\">Row</th><th style = \"text-align: left;\">Month</th><th style = \"text-align: left;\">Sales</th></tr><tr class = \"subheader headerLastRow\"><th class = \"rowNumber\" style = \"font-weight: bold; text-align: right;\"></th><th title = \"String7\" style = \"text-align: left;\">String7</th><th title = \"Float64\" style = \"text-align: left;\">Float64</th></tr></thead><tbody><tr><td class = \"rowNumber\" style = \"font-weight: bold; text-align: right;\">1</td><td style = \"text-align: left;\">1-Jan</td><td style = \"text-align: right;\">266.0</td></tr><tr><td class = \"rowNumber\" style = \"font-weight: bold; text-align: right;\">2</td><td style = \"text-align: left;\">1-Feb</td><td style = \"text-align: right;\">145.9</td></tr><tr><td class = \"rowNumber\" style = \"font-weight: bold; text-align: right;\">3</td><td style = \"text-align: left;\">1-Mar</td><td style = \"text-align: right;\">183.1</td></tr><tr><td class = \"rowNumber\" style = \"font-weight: bold; text-align: right;\">4</td><td style = \"text-align: left;\">1-Apr</td><td style = \"text-align: right;\">119.3</td></tr><tr><td class = \"rowNumber\" style = \"font-weight: bold; text-align: right;\">5</td><td style = \"text-align: left;\">1-May</td><td style = \"text-align: right;\">180.3</td></tr><tr><td class = \"rowNumber\" style = \"font-weight: bold; text-align: right;\">6</td><td style = \"text-align: left;\">1-Jun</td><td style = \"text-align: right;\">168.5</td></tr><tr><td class = \"rowNumber\" style = \"font-weight: bold; text-align: right;\">7</td><td style = \"text-align: left;\">1-Jul</td><td style = \"text-align: right;\">231.8</td></tr><tr><td class = \"rowNumber\" style = \"font-weight: bold; text-align: right;\">8</td><td style = \"text-align: left;\">1-Aug</td><td style = \"text-align: right;\">224.5</td></tr><tr><td class = \"rowNumber\" style = \"font-weight: bold; text-align: right;\">9</td><td style = \"text-align: left;\">1-Sep</td><td style = \"text-align: right;\">192.8</td></tr><tr><td class = \"rowNumber\" style = \"font-weight: bold; text-align: right;\">10</td><td style = \"text-align: left;\">1-Oct</td><td style = \"text-align: right;\">122.9</td></tr><tr><td class = \"rowNumber\" style = \"font-weight: bold; text-align: right;\">11</td><td style = \"text-align: left;\">1-Nov</td><td style = \"text-align: right;\">336.5</td></tr><tr><td class = \"rowNumber\" style = \"font-weight: bold; text-align: right;\">12</td><td style = \"text-align: left;\">1-Dec</td><td style = \"text-align: right;\">185.9</td></tr><tr><td class = \"rowNumber\" style = \"font-weight: bold; text-align: right;\">13</td><td style = \"text-align: left;\">2-Jan</td><td style = \"text-align: right;\">194.3</td></tr><tr><td style = \"text-align: right;\">&vellip;</td><td style = \"text-align: right;\">&vellip;</td><td style = \"text-align: right;\">&vellip;</td></tr><tr><td class = \"rowNumber\" style = \"font-weight: bold; text-align: right;\">25</td><td style = \"text-align: left;\">3-Jan</td><td style = \"text-align: right;\">339.7</td></tr><tr><td class = \"rowNumber\" style = \"font-weight: bold; text-align: right;\">26</td><td style = \"text-align: left;\">3-Feb</td><td style = \"text-align: right;\">440.4</td></tr><tr><td class = \"rowNumber\" style = \"font-weight: bold; text-align: right;\">27</td><td style = \"text-align: left;\">3-Mar</td><td style = \"text-align: right;\">315.9</td></tr><tr><td class = \"rowNumber\" style = \"font-weight: bold; text-align: right;\">28</td><td style = \"text-align: left;\">3-Apr</td><td style = \"text-align: right;\">439.3</td></tr><tr><td class = \"rowNumber\" style = \"font-weight: bold; text-align: right;\">29</td><td style = \"text-align: left;\">3-May</td><td style = \"text-align: right;\">401.3</td></tr><tr><td class = \"rowNumber\" style = \"font-weight: bold; text-align: right;\">30</td><td style = \"text-align: left;\">3-Jun</td><td style = \"text-align: right;\">437.4</td></tr><tr><td class = \"rowNumber\" style = \"font-weight: bold; text-align: right;\">31</td><td style = \"text-align: left;\">3-Jul</td><td style = \"text-align: right;\">575.5</td></tr><tr><td class = \"rowNumber\" style = \"font-weight: bold; text-align: right;\">32</td><td style = \"text-align: left;\">3-Aug</td><td style = \"text-align: right;\">407.6</td></tr><tr><td class = \"rowNumber\" style = \"font-weight: bold; text-align: right;\">33</td><td style = \"text-align: left;\">3-Sep</td><td style = \"text-align: right;\">682.0</td></tr><tr><td class = \"rowNumber\" style = \"font-weight: bold; text-align: right;\">34</td><td style = \"text-align: left;\">3-Oct</td><td style = \"text-align: right;\">475.3</td></tr><tr><td class = \"rowNumber\" style = \"font-weight: bold; text-align: right;\">35</td><td style = \"text-align: left;\">3-Nov</td><td style = \"text-align: right;\">581.3</td></tr><tr><td class = \"rowNumber\" style = \"font-weight: bold; text-align: right;\">36</td><td style = \"text-align: left;\">3-Dec</td><td style = \"text-align: right;\">646.9</td></tr></tbody></table></div>"
      ],
      "text/latex": [
       "\\begin{tabular}{r|cc}\n",
       "\t& Month & Sales\\\\\n",
       "\t\\hline\n",
       "\t& String7 & Float64\\\\\n",
       "\t\\hline\n",
       "\t1 & 1-Jan & 266.0 \\\\\n",
       "\t2 & 1-Feb & 145.9 \\\\\n",
       "\t3 & 1-Mar & 183.1 \\\\\n",
       "\t4 & 1-Apr & 119.3 \\\\\n",
       "\t5 & 1-May & 180.3 \\\\\n",
       "\t6 & 1-Jun & 168.5 \\\\\n",
       "\t7 & 1-Jul & 231.8 \\\\\n",
       "\t8 & 1-Aug & 224.5 \\\\\n",
       "\t9 & 1-Sep & 192.8 \\\\\n",
       "\t10 & 1-Oct & 122.9 \\\\\n",
       "\t11 & 1-Nov & 336.5 \\\\\n",
       "\t12 & 1-Dec & 185.9 \\\\\n",
       "\t13 & 2-Jan & 194.3 \\\\\n",
       "\t14 & 2-Feb & 149.5 \\\\\n",
       "\t15 & 2-Mar & 210.1 \\\\\n",
       "\t16 & 2-Apr & 273.3 \\\\\n",
       "\t17 & 2-May & 191.4 \\\\\n",
       "\t18 & 2-Jun & 287.0 \\\\\n",
       "\t19 & 2-Jul & 226.0 \\\\\n",
       "\t20 & 2-Aug & 303.6 \\\\\n",
       "\t21 & 2-Sep & 289.9 \\\\\n",
       "\t22 & 2-Oct & 421.6 \\\\\n",
       "\t23 & 2-Nov & 264.5 \\\\\n",
       "\t24 & 2-Dec & 342.3 \\\\\n",
       "\t25 & 3-Jan & 339.7 \\\\\n",
       "\t26 & 3-Feb & 440.4 \\\\\n",
       "\t27 & 3-Mar & 315.9 \\\\\n",
       "\t28 & 3-Apr & 439.3 \\\\\n",
       "\t29 & 3-May & 401.3 \\\\\n",
       "\t30 & 3-Jun & 437.4 \\\\\n",
       "\t$\\dots$ & $\\dots$ & $\\dots$ \\\\\n",
       "\\end{tabular}\n"
      ],
      "text/plain": [
       "\u001b[1m36×2 DataFrame\u001b[0m\n",
       "\u001b[1m Row \u001b[0m│\u001b[1m Month   \u001b[0m\u001b[1m Sales   \u001b[0m\n",
       "     │\u001b[90m String7 \u001b[0m\u001b[90m Float64 \u001b[0m\n",
       "─────┼──────────────────\n",
       "   1 │ 1-Jan      266.0\n",
       "   2 │ 1-Feb      145.9\n",
       "   3 │ 1-Mar      183.1\n",
       "   4 │ 1-Apr      119.3\n",
       "   5 │ 1-May      180.3\n",
       "   6 │ 1-Jun      168.5\n",
       "   7 │ 1-Jul      231.8\n",
       "   8 │ 1-Aug      224.5\n",
       "   9 │ 1-Sep      192.8\n",
       "  10 │ 1-Oct      122.9\n",
       "  11 │ 1-Nov      336.5\n",
       "  ⋮  │    ⋮        ⋮\n",
       "  27 │ 3-Mar      315.9\n",
       "  28 │ 3-Apr      439.3\n",
       "  29 │ 3-May      401.3\n",
       "  30 │ 3-Jun      437.4\n",
       "  31 │ 3-Jul      575.5\n",
       "  32 │ 3-Aug      407.6\n",
       "  33 │ 3-Sep      682.0\n",
       "  34 │ 3-Oct      475.3\n",
       "  35 │ 3-Nov      581.3\n",
       "  36 │ 3-Dec      646.9\n",
       "\u001b[36m         15 rows omitted\u001b[0m"
      ]
     },
     "execution_count": 22,
     "metadata": {},
     "output_type": "execute_result"
    }
   ],
   "source": [
    "#rename the column with name Sales of shampoo over a three year period to Sales.\n",
    "rename!(processed_df, :\"Sales of shampoo over a three year period\" => :Sales)\n"
   ]
  },
  {
   "cell_type": "code",
   "execution_count": 14,
   "id": "d1926e68",
   "metadata": {},
   "outputs": [
    {
     "data": {
      "text/plain": [
       "36-element Vector{String7}:\n",
       " \"1-Jan\"\n",
       " \"1-Feb\"\n",
       " \"1-Mar\"\n",
       " \"1-Apr\"\n",
       " \"1-May\"\n",
       " \"1-Jun\"\n",
       " \"1-Jul\"\n",
       " \"1-Aug\"\n",
       " \"1-Sep\"\n",
       " \"1-Oct\"\n",
       " \"1-Nov\"\n",
       " \"1-Dec\"\n",
       " \"2-Jan\"\n",
       " ⋮\n",
       " \"3-Jan\"\n",
       " \"3-Feb\"\n",
       " \"3-Mar\"\n",
       " \"3-Apr\"\n",
       " \"3-May\"\n",
       " \"3-Jun\"\n",
       " \"3-Jul\"\n",
       " \"3-Aug\"\n",
       " \"3-Sep\"\n",
       " \"3-Oct\"\n",
       " \"3-Nov\"\n",
       " \"3-Dec\""
      ]
     },
     "execution_count": 14,
     "metadata": {},
     "output_type": "execute_result"
    }
   ],
   "source": [
    "processed_df[!, :Month]"
   ]
  },
  {
   "cell_type": "code",
   "execution_count": 30,
   "id": "094e9c30",
   "metadata": {},
   "outputs": [
    {
     "data": {
      "text/plain": [
       "preprocess_data (generic function with 1 method)"
      ]
     },
     "execution_count": 30,
     "metadata": {},
     "output_type": "execute_result"
    }
   ],
   "source": [
    "#=function preprocess_data(processed_df::DataFrame)\n",
    " \n",
    "    processed_df[!, :Month] = processed_df.date = |>(x-> DateTime(x = \"-01\", \"d-mm-yyyyy\")) .|>(x-> Dates.format(x, \"m\")) \n",
    "    processed_df[!, :Year] = processed_df.date = |>(x-> DateTime(x = \"-01\", \"d-mm-yyyyy\")) .|>(x-> Dates.format(x, \"yyyy\")) \n",
    "    \n",
    "    select!(processed_df, Not(:date))\n",
    "    \n",
    "    processed_df[!, :Sales] = parse.(Float64, df.Sales)\n",
    "\n",
    "   \n",
    "   \n",
    "    return processed_df\n",
    "end=#\n"
   ]
  },
  {
   "cell_type": "code",
   "execution_count": 39,
   "id": "6f90b059",
   "metadata": {},
   "outputs": [
    {
     "data": {
      "text/plain": [
       "36-element Vector{DateTime}:\n",
       " 0001-01-01T00:00:00\n",
       " 0001-02-01T00:00:00\n",
       " 0001-03-01T00:00:00\n",
       " 0001-04-01T00:00:00\n",
       " 0001-05-01T00:00:00\n",
       " 0001-06-01T00:00:00\n",
       " 0001-07-01T00:00:00\n",
       " 0001-08-01T00:00:00\n",
       " 0001-09-01T00:00:00\n",
       " 0001-10-01T00:00:00\n",
       " 0001-11-01T00:00:00\n",
       " 0001-12-01T00:00:00\n",
       " 0002-01-01T00:00:00\n",
       " ⋮\n",
       " 0003-01-01T00:00:00\n",
       " 0003-02-01T00:00:00\n",
       " 0003-03-01T00:00:00\n",
       " 0003-04-01T00:00:00\n",
       " 0003-05-01T00:00:00\n",
       " 0003-06-01T00:00:00\n",
       " 0003-07-01T00:00:00\n",
       " 0003-08-01T00:00:00\n",
       " 0003-09-01T00:00:00\n",
       " 0003-10-01T00:00:00\n",
       " 0003-11-01T00:00:00\n",
       " 0003-12-01T00:00:00"
      ]
     },
     "execution_count": 39,
     "metadata": {},
     "output_type": "execute_result"
    }
   ],
   "source": [
    "# Define a dictionary to map month abbreviations to numbers\n",
    "month_map = Dict(\"Jan\" => 1, \"Feb\" => 2, \"Mar\" => 3, \"Apr\" => 4, \"May\" => 5, \"Jun\" => 6,\n",
    "                  \"Jul\" => 7, \"Aug\" => 8, \"Sep\" => 9, \"Oct\" => 10, \"Nov\" => 11, \"Dec\" => 12)\n",
    "\n",
    "# Split the month and year components\n",
    "year_strings = SubString.(processed_df[!, :Month], 1, 1)\n",
    "month_strings = SubString.(processed_df[!, :Month], 3, 5)\n",
    "\n",
    "# Convert the month and year components to integers\n",
    "years = parse.(Int, year_strings)\n",
    "months = [month_map[m] for m in month_strings]\n",
    "\n",
    "# Create an array of Date objects for each month\n",
    "num_months = length(years)\n",
    "dates = [Date(years[i], months[i], 1) for i in 1:num_months]\n",
    "\n",
    "# Convert the dates to DateTime objects\n",
    "processed_df[!, :Month] = Dates.DateTime.(dates)\n"
   ]
  },
  {
   "cell_type": "code",
   "execution_count": 41,
   "id": "e844ae33",
   "metadata": {},
   "outputs": [
    {
     "data": {
      "text/plain": [
       "36-element Vector{Float64}:\n",
       " -0.31288362628797467\n",
       " -1.119263959274793\n",
       " -0.8694941975170108\n",
       " -1.2978627674134222\n",
       " -0.8882940720579191\n",
       " -0.9675221147660329\n",
       " -0.542510665323355\n",
       " -0.5915246239478661\n",
       " -0.8043660607145783\n",
       " -1.27369150014654\n",
       "  0.16047035768846746\n",
       " -0.8506943229761025\n",
       " -0.7942946993533774\n",
       "  ⋮\n",
       "  0.18195592859236262\n",
       "  0.8580799879743161\n",
       "  0.022156994994641667\n",
       "  0.8506943229761023\n",
       "  0.5955531684923463\n",
       "  0.8379372652519143\n",
       "  1.7651739345731436\n",
       "  0.6378528862093901\n",
       "  2.4802405912184073\n",
       "  1.0924069956449238\n",
       "  1.8041165318364534\n",
       "  2.244570735366306"
      ]
     },
     "execution_count": 41,
     "metadata": {},
     "output_type": "execute_result"
    }
   ],
   "source": [
    "# Normalize the sales data\n",
    "sales = processed_df[!, :Sales]\n",
    "μ, σ = mean(sales), std(sales)\n",
    "sales = (sales .- μ) ./ σ"
   ]
  },
  {
   "cell_type": "code",
   "execution_count": 55,
   "id": "e5f061ff",
   "metadata": {},
   "outputs": [
    {
     "ename": "LoadError",
     "evalue": "UndefKeywordError: keyword argument timestamp not assigned",
     "output_type": "error",
     "traceback": [
      "UndefKeywordError: keyword argument timestamp not assigned",
      "",
      "Stacktrace:",
      " [1] top-level scope",
      "   @ In[55]:5"
     ]
    }
   ],
   "source": [
    "# Extract the sales column as an array\n",
    "sales = convert(Vector{Float64}, processed_df[!, :Sales])\n",
    "\n",
    "# Create a time series dataset\n",
    "ts = TimeArray(sales, dates=processed_df[!, :Month])\n"
   ]
  },
  {
   "cell_type": "code",
   "execution_count": 66,
   "id": "670a0f87",
   "metadata": {},
   "outputs": [
    {
     "ename": "LoadError",
     "evalue": "MethodError: no method matching TimeArray(::Vector{Float64}, ::Vector{Date}; timestamp=[Month(1), Month(2), Month(3), Month(4), Month(5), Month(6), Month(7), Month(8), Month(9), Month(10)  …  Month(3), Month(4), Month(5), Month(6), Month(7), Month(8), Month(9), Month(10), Month(11), Month(12)])\n\u001b[0mClosest candidates are:\n\u001b[0m  TimeArray(\u001b[91m::D\u001b[39m, ::AbstractArray{T, N}) where {T, N, D<:TimeType} at C:\\Users\\Selma Shivute\\.julia\\packages\\TimeSeries\\vYT6q\\src\\timearray.jl:96\u001b[91m got unsupported keyword argument \"timestamp\"\u001b[39m\n\u001b[0m  TimeArray(\u001b[91m::D\u001b[39m, ::AbstractArray{T, N}, \u001b[91m::Vector{S}\u001b[39m) where {T, N, D<:TimeType, S<:AbstractString} at deprecated.jl:70\u001b[91m got unsupported keyword argument \"timestamp\"\u001b[39m\n\u001b[0m  TimeArray(\u001b[91m::D\u001b[39m, ::AbstractArray{T, N}, \u001b[91m::Vector{Symbol}\u001b[39m) where {T, N, D<:TimeType} at C:\\Users\\Selma Shivute\\.julia\\packages\\TimeSeries\\vYT6q\\src\\timearray.jl:96\u001b[91m got unsupported keyword argument \"timestamp\"\u001b[39m\n\u001b[0m  ...",
     "output_type": "error",
     "traceback": [
      "MethodError: no method matching TimeArray(::Vector{Float64}, ::Vector{Date}; timestamp=[Month(1), Month(2), Month(3), Month(4), Month(5), Month(6), Month(7), Month(8), Month(9), Month(10)  …  Month(3), Month(4), Month(5), Month(6), Month(7), Month(8), Month(9), Month(10), Month(11), Month(12)])\n\u001b[0mClosest candidates are:\n\u001b[0m  TimeArray(\u001b[91m::D\u001b[39m, ::AbstractArray{T, N}) where {T, N, D<:TimeType} at C:\\Users\\Selma Shivute\\.julia\\packages\\TimeSeries\\vYT6q\\src\\timearray.jl:96\u001b[91m got unsupported keyword argument \"timestamp\"\u001b[39m\n\u001b[0m  TimeArray(\u001b[91m::D\u001b[39m, ::AbstractArray{T, N}, \u001b[91m::Vector{S}\u001b[39m) where {T, N, D<:TimeType, S<:AbstractString} at deprecated.jl:70\u001b[91m got unsupported keyword argument \"timestamp\"\u001b[39m\n\u001b[0m  TimeArray(\u001b[91m::D\u001b[39m, ::AbstractArray{T, N}, \u001b[91m::Vector{Symbol}\u001b[39m) where {T, N, D<:TimeType} at C:\\Users\\Selma Shivute\\.julia\\packages\\TimeSeries\\vYT6q\\src\\timearray.jl:96\u001b[91m got unsupported keyword argument \"timestamp\"\u001b[39m\n\u001b[0m  ...",
      "",
      "Stacktrace:",
      " [1] top-level scope",
      "   @ In[66]:8"
     ]
    }
   ],
   "source": [
    "#import Pkg; Pkg.add(\"Tables\")\n",
    "using Dates, TimeSeries\n",
    "\n",
    "data = [2.3, 4.5, 6.7, 8.9, 10.1, 12.3, 14.5, 16.7, 18.9, 20.1, 22.3, 24.5]\n",
    "dates = collect(Date(1, 1, 1):Month(1):Date(3, 12, 1))\n",
    "periods = Month.(dates)\n",
    "\n",
    "ta = TimeArray(data, dates; timestamp=periods)\n"
   ]
  },
  {
   "cell_type": "code",
   "execution_count": 67,
   "id": "01efdf5f",
   "metadata": {},
   "outputs": [
    {
     "data": {
      "text/html": [
       "<div><div style = \"float: left;\"><span>11×2 DataFrame</span></div><div style = \"clear: both;\"></div></div><div class = \"data-frame\" style = \"overflow-x: scroll;\"><table class = \"data-frame\" style = \"margin-bottom: 6px;\"><thead><tr class = \"header\"><th class = \"rowNumber\" style = \"font-weight: bold; text-align: right;\">Row</th><th style = \"text-align: left;\">Month</th><th style = \"text-align: left;\">Sales</th></tr><tr class = \"subheader headerLastRow\"><th class = \"rowNumber\" style = \"font-weight: bold; text-align: right;\"></th><th title = \"DateTime\" style = \"text-align: left;\">DateTime</th><th title = \"Float64\" style = \"text-align: left;\">Float64</th></tr></thead><tbody><tr><td class = \"rowNumber\" style = \"font-weight: bold; text-align: right;\">1</td><td style = \"text-align: left;\">0003-02-01T00:00:00</td><td style = \"text-align: right;\">440.4</td></tr><tr><td class = \"rowNumber\" style = \"font-weight: bold; text-align: right;\">2</td><td style = \"text-align: left;\">0003-03-01T00:00:00</td><td style = \"text-align: right;\">315.9</td></tr><tr><td class = \"rowNumber\" style = \"font-weight: bold; text-align: right;\">3</td><td style = \"text-align: left;\">0003-04-01T00:00:00</td><td style = \"text-align: right;\">439.3</td></tr><tr><td class = \"rowNumber\" style = \"font-weight: bold; text-align: right;\">4</td><td style = \"text-align: left;\">0003-05-01T00:00:00</td><td style = \"text-align: right;\">401.3</td></tr><tr><td class = \"rowNumber\" style = \"font-weight: bold; text-align: right;\">5</td><td style = \"text-align: left;\">0003-06-01T00:00:00</td><td style = \"text-align: right;\">437.4</td></tr><tr><td class = \"rowNumber\" style = \"font-weight: bold; text-align: right;\">6</td><td style = \"text-align: left;\">0003-07-01T00:00:00</td><td style = \"text-align: right;\">575.5</td></tr><tr><td class = \"rowNumber\" style = \"font-weight: bold; text-align: right;\">7</td><td style = \"text-align: left;\">0003-08-01T00:00:00</td><td style = \"text-align: right;\">407.6</td></tr><tr><td class = \"rowNumber\" style = \"font-weight: bold; text-align: right;\">8</td><td style = \"text-align: left;\">0003-09-01T00:00:00</td><td style = \"text-align: right;\">682.0</td></tr><tr><td class = \"rowNumber\" style = \"font-weight: bold; text-align: right;\">9</td><td style = \"text-align: left;\">0003-10-01T00:00:00</td><td style = \"text-align: right;\">475.3</td></tr><tr><td class = \"rowNumber\" style = \"font-weight: bold; text-align: right;\">10</td><td style = \"text-align: left;\">0003-11-01T00:00:00</td><td style = \"text-align: right;\">581.3</td></tr><tr><td class = \"rowNumber\" style = \"font-weight: bold; text-align: right;\">11</td><td style = \"text-align: left;\">0003-12-01T00:00:00</td><td style = \"text-align: right;\">646.9</td></tr></tbody></table></div>"
      ],
      "text/latex": [
       "\\begin{tabular}{r|cc}\n",
       "\t& Month & Sales\\\\\n",
       "\t\\hline\n",
       "\t& DateTime & Float64\\\\\n",
       "\t\\hline\n",
       "\t1 & 0003-02-01T00:00:00 & 440.4 \\\\\n",
       "\t2 & 0003-03-01T00:00:00 & 315.9 \\\\\n",
       "\t3 & 0003-04-01T00:00:00 & 439.3 \\\\\n",
       "\t4 & 0003-05-01T00:00:00 & 401.3 \\\\\n",
       "\t5 & 0003-06-01T00:00:00 & 437.4 \\\\\n",
       "\t6 & 0003-07-01T00:00:00 & 575.5 \\\\\n",
       "\t7 & 0003-08-01T00:00:00 & 407.6 \\\\\n",
       "\t8 & 0003-09-01T00:00:00 & 682.0 \\\\\n",
       "\t9 & 0003-10-01T00:00:00 & 475.3 \\\\\n",
       "\t10 & 0003-11-01T00:00:00 & 581.3 \\\\\n",
       "\t11 & 0003-12-01T00:00:00 & 646.9 \\\\\n",
       "\\end{tabular}\n"
      ],
      "text/plain": [
       "\u001b[1m11×2 DataFrame\u001b[0m\n",
       "\u001b[1m Row \u001b[0m│\u001b[1m Month               \u001b[0m\u001b[1m Sales   \u001b[0m\n",
       "     │\u001b[90m DateTime            \u001b[0m\u001b[90m Float64 \u001b[0m\n",
       "─────┼──────────────────────────────\n",
       "   1 │ 0003-02-01T00:00:00    440.4\n",
       "   2 │ 0003-03-01T00:00:00    315.9\n",
       "   3 │ 0003-04-01T00:00:00    439.3\n",
       "   4 │ 0003-05-01T00:00:00    401.3\n",
       "   5 │ 0003-06-01T00:00:00    437.4\n",
       "   6 │ 0003-07-01T00:00:00    575.5\n",
       "   7 │ 0003-08-01T00:00:00    407.6\n",
       "   8 │ 0003-09-01T00:00:00    682.0\n",
       "   9 │ 0003-10-01T00:00:00    475.3\n",
       "  10 │ 0003-11-01T00:00:00    581.3\n",
       "  11 │ 0003-12-01T00:00:00    646.9"
      ]
     },
     "execution_count": 67,
     "metadata": {},
     "output_type": "execute_result"
    }
   ],
   "source": [
    "# Split the dataset into training and testing sets\n",
    "#train_ratio = 0.8\n",
    "#train_size = Int(floor(length(ts) * train_ratio))\n",
    "\n",
    "#train_data = ts[1:train_size]\n",
    "#test_data = ts[train_size+1:end]\n",
    "\n",
    "\n",
    "train_data = processed_df[1:25, :]\n",
    "test_data = processed_df[26:end, :]\n",
    "\n",
    "# Define the window size and batch size\n",
    "#window_size = 3\n",
    "#batch_size = 4"
   ]
  },
  {
   "cell_type": "code",
   "execution_count": 70,
   "id": "07d3e637",
   "metadata": {},
   "outputs": [
    {
     "data": {
      "text/plain": [
       "TPA_LSTM(Chain(Recur(LSTMCell(1 => 64)), Recur(LSTMCell(64 => 64))), Chain(Recur(LSTMCell(64 => 64)), Recur(LSTMCell(64 => 64))), Chain(Dense(64 => 32, relu), softmax), Dense(32 => 1))"
      ]
     },
     "execution_count": 70,
     "metadata": {},
     "output_type": "execute_result"
    }
   ],
   "source": [
    "using Flux\n",
    "\n",
    "# Define the TPA-LSTM model\n",
    "struct TPA_LSTM\n",
    "    lstm1::Chain\n",
    "    lstm2::Chain\n",
    "    tpa::Chain\n",
    "    output::Dense\n",
    "end\n",
    "\n",
    "function TPA_LSTM(input_size::Int, hidden_size::Int, tpa_size::Int, output_size::Int)\n",
    "    # Create the LSTM layers\n",
    "    lstm1 = Chain(\n",
    "        LSTM(input_size, hidden_size),\n",
    "        LSTM(hidden_size, hidden_size)\n",
    "    )\n",
    "    lstm2 = Chain(\n",
    "        LSTM(hidden_size, hidden_size),\n",
    "        LSTM(hidden_size, hidden_size)\n",
    "    )\n",
    "\n",
    "    # Create the TPA layer\n",
    "    tpa = Chain(\n",
    "        Dense(hidden_size, tpa_size, relu),\n",
    "        softmax\n",
    "    )\n",
    "\n",
    "    # Create the output layer\n",
    "    output = Dense(tpa_size, output_size)\n",
    "\n",
    "    # Return the TPA-LSTM model\n",
    "    return TPA_LSTM(lstm1, lstm2, tpa, output)\n",
    "end\n",
    "\n",
    "# Initialize the TPA-LSTM model\n",
    "input_size = 1\n",
    "hidden_size = 64\n",
    "tpa_size = 32\n",
    "output_size = 1\n",
    "model = TPA_LSTM(input_size, hidden_size, tpa_size, output_size)\n"
   ]
  },
  {
   "cell_type": "code",
   "execution_count": 72,
   "id": "1d7e77f5",
   "metadata": {},
   "outputs": [
    {
     "data": {
      "text/plain": [
       "Adam(0.001, (0.9, 0.999), 1.0e-8, IdDict{Any, Any}())"
      ]
     },
     "execution_count": 72,
     "metadata": {},
     "output_type": "execute_result"
    }
   ],
   "source": [
    "# Train the TPA-LSTM model\n",
    "# Initialize the TPA-LSTM model\n",
    "input_size = 1\n",
    "hidden_size = 64\n",
    "tpa_size = 32\n",
    "output_size = 1\n",
    "model = TPA_LSTM(input_size, hidden_size, tpa_size, output_size)\n",
    "\n",
    "# Define the loss function and optimizer\n",
    "loss(x, y) = Flux.mse(model(x), y)\n",
    "opt = Flux.ADAM()"
   ]
  },
  {
   "cell_type": "code",
   "execution_count": 74,
   "id": "b7c03d71",
   "metadata": {},
   "outputs": [
    {
     "data": {
      "text/plain": [
       "25×2 Matrix{Any}:\n",
       " 0001-01-01T00:00:00  266.0\n",
       " 0001-02-01T00:00:00  145.9\n",
       " 0001-03-01T00:00:00  183.1\n",
       " 0001-04-01T00:00:00  119.3\n",
       " 0001-05-01T00:00:00  180.3\n",
       " 0001-06-01T00:00:00  168.5\n",
       " 0001-07-01T00:00:00  231.8\n",
       " 0001-08-01T00:00:00  224.5\n",
       " 0001-09-01T00:00:00  192.8\n",
       " 0001-10-01T00:00:00  122.9\n",
       " 0001-11-01T00:00:00  336.5\n",
       " 0001-12-01T00:00:00  185.9\n",
       " 0002-01-01T00:00:00  194.3\n",
       " 0002-02-01T00:00:00  149.5\n",
       " 0002-03-01T00:00:00  210.1\n",
       " 0002-04-01T00:00:00  273.3\n",
       " 0002-05-01T00:00:00  191.4\n",
       " 0002-06-01T00:00:00  287.0\n",
       " 0002-07-01T00:00:00  226.0\n",
       " 0002-08-01T00:00:00  303.6\n",
       " 0002-09-01T00:00:00  289.9\n",
       " 0002-10-01T00:00:00  421.6\n",
       " 0002-11-01T00:00:00  264.5\n",
       " 0002-12-01T00:00:00  342.3\n",
       " 0003-01-01T00:00:00  339.7"
      ]
     },
     "execution_count": 74,
     "metadata": {},
     "output_type": "execute_result"
    }
   ],
   "source": [
    "train_data = Matrix(train_data)"
   ]
  },
  {
   "cell_type": "code",
   "execution_count": 77,
   "id": "4894c5e1",
   "metadata": {},
   "outputs": [
    {
     "ename": "LoadError",
     "evalue": "MethodError: no method matching (::Flux.LSTMCell{Matrix{Float32}, Matrix{Float32}, Vector{Float32}, Tuple{Matrix{Float32}, Matrix{Float32}}})(::Tuple{Matrix{Float32}, Matrix{Float32}}, ::Vector{Any})\n\u001b[0mClosest candidates are:\n\u001b[0m  (::Flux.LSTMCell{I, H, V, <:Tuple{AbstractMatrix{T}, AbstractMatrix{T}}})(::Any, \u001b[91m::Union{OneHotArrays.OneHotArray, AbstractVecOrMat{<:AbstractFloat}}\u001b[39m) where {I, H, V, T} at C:\\Users\\Selma Shivute\\.julia\\packages\\Flux\\Nzh8J\\src\\layers\\recurrent.jl:310",
     "output_type": "error",
     "traceback": [
      "MethodError: no method matching (::Flux.LSTMCell{Matrix{Float32}, Matrix{Float32}, Vector{Float32}, Tuple{Matrix{Float32}, Matrix{Float32}}})(::Tuple{Matrix{Float32}, Matrix{Float32}}, ::Vector{Any})\n\u001b[0mClosest candidates are:\n\u001b[0m  (::Flux.LSTMCell{I, H, V, <:Tuple{AbstractMatrix{T}, AbstractMatrix{T}}})(::Any, \u001b[91m::Union{OneHotArrays.OneHotArray, AbstractVecOrMat{<:AbstractFloat}}\u001b[39m) where {I, H, V, T} at C:\\Users\\Selma Shivute\\.julia\\packages\\Flux\\Nzh8J\\src\\layers\\recurrent.jl:310",
      "",
      "Stacktrace:",
      "  [1] macro expansion",
      "    @ C:\\Users\\Selma Shivute\\.julia\\packages\\Zygote\\TSj5C\\src\\compiler\\interface2.jl:0 [inlined]",
      "  [2] _pullback(::Zygote.Context{true}, ::Flux.LSTMCell{Matrix{Float32}, Matrix{Float32}, Vector{Float32}, Tuple{Matrix{Float32}, Matrix{Float32}}}, ::Tuple{Matrix{Float32}, Matrix{Float32}}, ::Vector{Any})",
      "    @ Zygote C:\\Users\\Selma Shivute\\.julia\\packages\\Zygote\\TSj5C\\src\\compiler\\interface2.jl:9",
      "  [3] _pullback",
      "    @ C:\\Users\\Selma Shivute\\.julia\\packages\\Flux\\Nzh8J\\src\\layers\\recurrent.jl:134 [inlined]",
      "  [4] _pullback(ctx::Zygote.Context{true}, f::Flux.Recur{Flux.LSTMCell{Matrix{Float32}, Matrix{Float32}, Vector{Float32}, Tuple{Matrix{Float32}, Matrix{Float32}}}, Tuple{Matrix{Float32}, Matrix{Float32}}}, args::Vector{Any})",
      "    @ Zygote C:\\Users\\Selma Shivute\\.julia\\packages\\Zygote\\TSj5C\\src\\compiler\\interface2.jl:0",
      "  [5] macro expansion",
      "    @ C:\\Users\\Selma Shivute\\.julia\\packages\\Flux\\Nzh8J\\src\\layers\\basic.jl:53 [inlined]",
      "  [6] _pullback",
      "    @ C:\\Users\\Selma Shivute\\.julia\\packages\\Flux\\Nzh8J\\src\\layers\\basic.jl:53 [inlined]",
      "  [7] _pullback(::Zygote.Context{true}, ::typeof(Flux._applychain), ::Tuple{Flux.Recur{Flux.LSTMCell{Matrix{Float32}, Matrix{Float32}, Vector{Float32}, Tuple{Matrix{Float32}, Matrix{Float32}}}, Tuple{Matrix{Float32}, Matrix{Float32}}}, Flux.Recur{Flux.LSTMCell{Matrix{Float32}, Matrix{Float32}, Vector{Float32}, Tuple{Matrix{Float32}, Matrix{Float32}}}, Tuple{Matrix{Float32}, Matrix{Float32}}}}, ::Vector{Any})",
      "    @ Zygote C:\\Users\\Selma Shivute\\.julia\\packages\\Zygote\\TSj5C\\src\\compiler\\interface2.jl:0",
      "  [8] _pullback",
      "    @ C:\\Users\\Selma Shivute\\.julia\\packages\\Flux\\Nzh8J\\src\\layers\\basic.jl:51 [inlined]",
      "  [9] _pullback(ctx::Zygote.Context{true}, f::Chain{Tuple{Flux.Recur{Flux.LSTMCell{Matrix{Float32}, Matrix{Float32}, Vector{Float32}, Tuple{Matrix{Float32}, Matrix{Float32}}}, Tuple{Matrix{Float32}, Matrix{Float32}}}, Flux.Recur{Flux.LSTMCell{Matrix{Float32}, Matrix{Float32}, Vector{Float32}, Tuple{Matrix{Float32}, Matrix{Float32}}}, Tuple{Matrix{Float32}, Matrix{Float32}}}}}, args::Vector{Any})",
      "    @ Zygote C:\\Users\\Selma Shivute\\.julia\\packages\\Zygote\\TSj5C\\src\\compiler\\interface2.jl:0",
      " [10] _pullback",
      "    @ .\\In[68]:20 [inlined]",
      " [11] _pullback(ctx::Zygote.Context{true}, f::TPA_LSTM, args::Vector{Any})",
      "    @ Zygote C:\\Users\\Selma Shivute\\.julia\\packages\\Zygote\\TSj5C\\src\\compiler\\interface2.jl:0",
      " [12] _pullback",
      "    @ .\\In[72]:10 [inlined]",
      " [13] _pullback(::Zygote.Context{true}, ::typeof(loss), ::Vector{Any}, ::Vector{Any})",
      "    @ Zygote C:\\Users\\Selma Shivute\\.julia\\packages\\Zygote\\TSj5C\\src\\compiler\\interface2.jl:0",
      " [14] _apply",
      "    @ .\\boot.jl:816 [inlined]",
      " [15] adjoint",
      "    @ C:\\Users\\Selma Shivute\\.julia\\packages\\Zygote\\TSj5C\\src\\lib\\lib.jl:203 [inlined]",
      " [16] _pullback",
      "    @ C:\\Users\\Selma Shivute\\.julia\\packages\\ZygoteRules\\OgCVT\\src\\adjoint.jl:66 [inlined]",
      " [17] _pullback",
      "    @ C:\\Users\\Selma Shivute\\.julia\\packages\\Flux\\Nzh8J\\src\\optimise\\train.jl:143 [inlined]",
      " [18] _pullback(::Zygote.Context{true}, ::Flux.Optimise.var\"#37#40\"{typeof(loss), Tuple{Vector{Any}, Vector{Any}}})",
      "    @ Zygote C:\\Users\\Selma Shivute\\.julia\\packages\\Zygote\\TSj5C\\src\\compiler\\interface2.jl:0",
      " [19] pullback(f::Function, ps::Zygote.Params{Zygote.Buffer{Any, Vector{Any}}})",
      "    @ Zygote C:\\Users\\Selma Shivute\\.julia\\packages\\Zygote\\TSj5C\\src\\compiler\\interface.jl:384",
      " [20] withgradient(f::Function, args::Zygote.Params{Zygote.Buffer{Any, Vector{Any}}})",
      "    @ Zygote C:\\Users\\Selma Shivute\\.julia\\packages\\Zygote\\TSj5C\\src\\compiler\\interface.jl:132",
      " [21] macro expansion",
      "    @ C:\\Users\\Selma Shivute\\.julia\\packages\\Flux\\Nzh8J\\src\\optimise\\train.jl:142 [inlined]",
      " [22] macro expansion",
      "    @ C:\\Users\\Selma Shivute\\.julia\\packages\\ProgressLogging\\6KXlp\\src\\ProgressLogging.jl:328 [inlined]",
      " [23] train!(loss::Function, ps::Zygote.Params{Zygote.Buffer{Any, Vector{Any}}}, data::Vector{Tuple{Vector{Any}, Vector{Any}}}, opt::Adam; cb::Flux.Optimise.var\"#38#41\")",
      "    @ Flux.Optimise C:\\Users\\Selma Shivute\\.julia\\packages\\Flux\\Nzh8J\\src\\optimise\\train.jl:140",
      " [24] train!(loss::Function, ps::Zygote.Params{Zygote.Buffer{Any, Vector{Any}}}, data::Vector{Tuple{Vector{Any}, Vector{Any}}}, opt::Adam)",
      "    @ Flux.Optimise C:\\Users\\Selma Shivute\\.julia\\packages\\Flux\\Nzh8J\\src\\optimise\\train.jl:136",
      " [25] top-level scope",
      "    @ .\\In[77]:8"
     ]
    }
   ],
   "source": [
    "# Train the model\n",
    "using Flux\n",
    "epochs = 100\n",
    "batch_size = 32\n",
    "data = [(train_data[i:i+batch_size-1], train_data[i+1:i+batch_size]) for i in 1:length(train_data)-batch_size]\n",
    "for epoch in 1:epochs\n",
    "    for (x, y) in data\n",
    "        Flux.train!(loss, Flux.params(model), [(x, y)], opt)\n",
    "    end\n",
    "end\n"
   ]
  },
  {
   "cell_type": "code",
   "execution_count": null,
   "id": "2facc3e7",
   "metadata": {},
   "outputs": [],
   "source": []
  },
  {
   "cell_type": "code",
   "execution_count": null,
   "id": "6ca2cd72",
   "metadata": {},
   "outputs": [],
   "source": []
  }
 ],
 "metadata": {
  "kernelspec": {
   "display_name": "Julia 1.8.5",
   "language": "julia",
   "name": "julia-1.8"
  },
  "language_info": {
   "file_extension": ".jl",
   "mimetype": "application/julia",
   "name": "julia",
   "version": "1.8.5"
  }
 },
 "nbformat": 4,
 "nbformat_minor": 5
}
